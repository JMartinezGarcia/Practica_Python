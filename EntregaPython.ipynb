{
 "cells": [
  {
   "cell_type": "markdown",
   "id": "b6c0bada",
   "metadata": {},
   "source": [
    "https://github.com/JMartinezGarcia/Practica_Python"
   ]
  },
  {
   "cell_type": "markdown",
   "id": "44bcf91e",
   "metadata": {},
   "source": [
    "# Ejercicio 1"
   ]
  },
  {
   "cell_type": "code",
   "execution_count": 19,
   "id": "d6d27090",
   "metadata": {},
   "outputs": [],
   "source": [
    "def func(d, m, a):\n",
    "    \n",
    "    bisiesto = 2024\n",
    "    \n",
    "    if (bisiesto - a) % 4 == 0:\n",
    "        \n",
    "        dias = 29\n",
    "        \n",
    "        \n",
    "    else:\n",
    "        \n",
    "        dias = 28\n",
    "        \n",
    "    dias_mes = {1: 31, 2: dias, 3: 31, 4: 30, 5: 31, 6: 30,\n",
    "            7: 31, 8: 31, 9: 30, 10: 31, 11: 30, 12: 31}\n",
    "    \n",
    "    if d > dias_mes[m]: \n",
    "        \n",
    "        print(\"Error\")\n",
    "        \n",
    "        return -1\n",
    "    \n",
    "    if d == dias_mes[m]:\n",
    "        \n",
    "        if m == 12:\n",
    "            \n",
    "            return (1, 1, a+1)\n",
    "        \n",
    "        else:\n",
    "            \n",
    "            return (1, m+1, a)\n",
    "        \n",
    "    else:\n",
    "        \n",
    "        \n",
    "        return (d+1, m , a)"
   ]
  },
  {
   "cell_type": "markdown",
   "id": "4aa23788",
   "metadata": {},
   "source": [
    "# Ejercicio 2"
   ]
  },
  {
   "cell_type": "code",
   "execution_count": 27,
   "id": "21e2e611",
   "metadata": {},
   "outputs": [
    {
     "name": "stdout",
     "output_type": "stream",
     "text": [
      "{'Perro': 4, 'Gato': 4, 'Casa': 4, 'Coche': 4, 'Árbol': 4, 'Sol': 4, 'Luna': 4, 'Mar': 4, 'Montaña': 4, 'Río': 4, 'Playa': 4, 'Libro': 4, 'Computadora': 4, 'Teléfono': 4, 'Amigo': 4, 'Familia': 4, 'Trabajo': 4, 'Comida': 4, 'Película': 4, 'Música': 4, 'Viaje': 4, 'Deporte': 4, 'Juego': 4, 'Amor': 4, 'Odio': 4, 'Felicidad': 4, 'Tristeza': 4, 'Alegría': 4, 'Dolor': 4, 'Sueño': 4, 'Noche': 4, 'Día': 4, 'Agua': 4, 'Fuego': 4, 'Aire': 4, 'Tierra': 4, 'Cielo': 4, 'Estrella': 4, 'Flor': 4, 'Fruta': 4, 'Verdura': 4, 'Chocolate': 4, 'Café': 4, 'T´e': 3, 'Vino': 4, 'Cerveza': 4, 'Dinero': 4, 'Tiempo': 4, 'Reloj': 8, 'Té': 1}\n"
     ]
    }
   ],
   "source": [
    "palabras_español = [\"Perro\", \"Gato\", \"Casa\", \"Coche\",\n",
    "                    \"Árbol\", \"Sol\", \"Luna\", \"Mar\", \"Montaña\", \"Río\",\n",
    "                    \"Playa\", \"Libro\", \"Computadora\", \"Teléfono\",\n",
    "                    \"Amigo\", \"Familia\", \"Trabajo\", \"Comida\", \"Película\",\n",
    "                    \"Música\", \"Viaje\", \"Deporte\", \"Juego\", \"Amor\", \"Odio\",\n",
    "                    \"Felicidad\", \"Tristeza\", \"Alegría\", \"Dolor\", \"Sueño\",\n",
    "                    \"Noche\", \"Día\", \"Agua\", \"Fuego\", \"Aire\", \"Tierra\",\n",
    "                    \"Cielo\", \"Estrella\", \"Flor\", \"Fruta\", \"Verdura\",\n",
    "                    \"Chocolate\", \"Café\", \"Té\", \"Vino\", \"Cerveza\",\n",
    "                    \"Dinero\", \"Tiempo\", \"Reloj\", \"Reloj\"]\n",
    "\n",
    "\n",
    "for palabra in palabras_español:\n",
    "    \n",
    "    if palabra not in palabra_count:\n",
    "        \n",
    "        palabra_count[palabra] = 1\n",
    "    else:\n",
    "        palabra_count[palabra] += 1\n",
    "        \n",
    "print(palabra_count)"
   ]
  },
  {
   "cell_type": "markdown",
   "id": "f2953ad5",
   "metadata": {},
   "source": [
    "# Ejercicio 3"
   ]
  },
  {
   "cell_type": "code",
   "execution_count": 58,
   "id": "90039904",
   "metadata": {},
   "outputs": [
    {
     "name": "stdout",
     "output_type": "stream",
     "text": [
      "El precio máximo para cebolla es 39.0\n",
      "El precio máximo para patata es 0.43\n",
      "El precio máximo para naranja es 0.56\n",
      "\n",
      "\n",
      "El producto más caro es cebolla\n",
      "\n",
      "\n",
      "El día con las naranjas más caras es 2\n"
     ]
    }
   ],
   "source": [
    "import numpy as np\n",
    "\n",
    "precio_origen = {\n",
    "    \n",
    "        \"cebolla\": [30.3, 20.3, 25.9, 39.0], # céntimos/kg\n",
    "        \"patata\":[0.33, 0.43, 0.34, 0.12], # euro/kg\n",
    "        \"naranja\":[0.45, 0.56, 0.38, 0.43] # euro/kg\n",
    "    \n",
    "        }\n",
    "\n",
    "for producto, precio in precio_origen.items():\n",
    "    print(f\"El precio máximo para {producto} es {max(precio)}\")\n",
    "    \n",
    "print(\"\\n\")\n",
    "\n",
    "#########################\n",
    "\n",
    "precio_max = {}\n",
    "\n",
    "for producto, precio in precio_origen.items():\n",
    "    \n",
    "    precio_max[producto] = np.average(precio)\n",
    "    \n",
    "print(f\"El producto más caro es {max(precio_max, key = precio_max.get)}\")\n",
    "\n",
    "print(\"\\n\")\n",
    "\n",
    "#######################\n",
    "\n",
    "print(f\"El día con las naranjas más caras es {np.argmax(precio_origen['naranja']) + 1}\")\n"
   ]
  },
  {
   "cell_type": "markdown",
   "id": "dd3d1df3",
   "metadata": {},
   "source": [
    "# Problema"
   ]
  },
  {
   "cell_type": "code",
   "execution_count": 59,
   "id": "f1a05710",
   "metadata": {},
   "outputs": [],
   "source": [
    "#### Parte 1\n",
    "\n",
    "inventario = {}\n",
    "\n",
    "Fruta = [(\"Manzana\", 0.9, 100),\n",
    "         (\"Melón\", 2.2, 20),\n",
    "         (\"Plátano\", 0.45, 200)]\n",
    "\n",
    "Verdura = [(\"Cebolla\", 0.3, 240),\n",
    "           (\"Judía\", 0.2, 300),\n",
    "           (\"Coliflor\", 3.78, 50)]\n",
    "\n",
    "Lácteo = [(\"Yogur\", 0.2, 120),\n",
    "          (\"Leche\", 0.4, 260)]\n",
    "\n",
    "inventario[\"Fruta\"] = Fruta\n",
    "inventario[\"Verdura\"] = Verdura\n",
    "inventario[\"Lácteo\"] = Lácteo"
   ]
  },
  {
   "cell_type": "code",
   "execution_count": 72,
   "id": "9ec9b411",
   "metadata": {},
   "outputs": [
    {
     "data": {
      "text/plain": [
       "{'Fruta': 224.0, 'Verdura': 321.0, 'Lácteo': 128.0}"
      ]
     },
     "execution_count": 72,
     "metadata": {},
     "output_type": "execute_result"
    }
   ],
   "source": [
    "#### Parte 2\n",
    "\n",
    "def func(inv):\n",
    "    \n",
    "    precio = {}\n",
    "    \n",
    "    categorías = inv.keys()\n",
    "    \n",
    "    for categoría in categorías:\n",
    "        \n",
    "        temp = 0\n",
    "        \n",
    "        for producto in inv[categoría]:\n",
    "            \n",
    "            temp += producto[1] * producto[2]\n",
    "            \n",
    "        precio[categoría] = temp\n",
    "        \n",
    "    return precio\n",
    "\n",
    "func(inventario)"
   ]
  },
  {
   "cell_type": "code",
   "execution_count": 77,
   "id": "0a3e0129",
   "metadata": {},
   "outputs": [
    {
     "name": "stdout",
     "output_type": "stream",
     "text": [
      "La categoría con el valor más alto es Verdura\n"
     ]
    }
   ],
   "source": [
    "#### Parte 3\n",
    "\n",
    "precios_total = func(inventario)\n",
    "\n",
    "print(f\"La categoría con el valor más alto es {max(precios_total, key = precios_total.get)}\")"
   ]
  },
  {
   "cell_type": "code",
   "execution_count": 81,
   "id": "e6ab37d8",
   "metadata": {},
   "outputs": [
    {
     "data": {
      "text/plain": [
       "{'Fruta': [('Manzana', 0.9, 0), ('Melón', 2.2, 20), ('Plátano', 0.45, 200)],\n",
       " 'Verdura': [('Cebolla', 0.3, 240),\n",
       "  ('Judía', 0.2, 300),\n",
       "  ('Coliflor', 3.78, 50)],\n",
       " 'Lácteo': [('Yogur', 0.2, 120), ('Leche', 0.4, 260)]}"
      ]
     },
     "execution_count": 81,
     "metadata": {},
     "output_type": "execute_result"
    }
   ],
   "source": [
    "#### Parte 4\n",
    "\n",
    "\n",
    "def modif(inv, categoría, prod, stock):\n",
    "    \n",
    "    for i, producto in enumerate(inv[categoría]):\n",
    "        \n",
    "        if producto[0] == prod:\n",
    "            \n",
    "            precio = inv[categoría][i][1]\n",
    "            \n",
    "            inv[categoría][i] = (prod, precio, stock)\n",
    "            \n",
    "    return inv\n",
    "\n",
    "modif(inventario, \"Fruta\", \"Manzana\", 0)"
   ]
  },
  {
   "cell_type": "code",
   "execution_count": null,
   "id": "20de606e",
   "metadata": {},
   "outputs": [],
   "source": []
  }
 ],
 "metadata": {
  "kernelspec": {
   "display_name": "Python 3 (ipykernel)",
   "language": "python",
   "name": "python3"
  },
  "language_info": {
   "codemirror_mode": {
    "name": "ipython",
    "version": 3
   },
   "file_extension": ".py",
   "mimetype": "text/x-python",
   "name": "python",
   "nbconvert_exporter": "python",
   "pygments_lexer": "ipython3",
   "version": "3.11.0"
  }
 },
 "nbformat": 4,
 "nbformat_minor": 5
}
